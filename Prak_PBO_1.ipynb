{
  "cells": [
    {
      "cell_type": "markdown",
      "source": [
        "Percobaan fungsi 1 fungsi parameter"
      ],
      "metadata": {
        "id": "fJ1yPm5ilcQh"
      }
    },
    {
      "cell_type": "code",
      "source": [
        "def message (number) :\n",
        "  print (\"Enter a number:\", number)\n",
        "\n",
        "number = 1234\n",
        "message (1)\n",
        "print (number)"
      ],
      "metadata": {
        "id": "mkuXgcEwlYB9",
        "outputId": "ee722f58-ba1e-49c0-9dd7-5caf6e65bcc1",
        "colab": {
          "base_uri": "https://localhost:8080/"
        }
      },
      "execution_count": null,
      "outputs": [
        {
          "output_type": "stream",
          "name": "stdout",
          "text": [
            "Enter a number: 1\n",
            "1234\n"
          ]
        }
      ]
    },
    {
      "cell_type": "markdown",
      "source": [
        "Percobaan fungsi 2 Multi Parameter"
      ],
      "metadata": {
        "id": "6jwqQxCPl88l"
      }
    },
    {
      "cell_type": "code",
      "source": [
        "def message (what, number):\n",
        " print (\"Enter\", what, \"number\", number)\n",
        "\n",
        "#invoke the function\n",
        "message (\"telephone\", 11)\n",
        "message (\"price\", 5)\n",
        "message (\"number\", \"number\")"
      ],
      "metadata": {
        "id": "mIyRTLzxmA1_",
        "outputId": "af10f6e3-5c24-4f04-eb28-0e584a154904",
        "colab": {
          "base_uri": "https://localhost:8080/"
        }
      },
      "execution_count": null,
      "outputs": [
        {
          "output_type": "stream",
          "name": "stdout",
          "text": [
            "Enter telephone number 11\n",
            "Enter price number 5\n",
            "Enter number number number\n"
          ]
        }
      ]
    },
    {
      "cell_type": "markdown",
      "source": [
        "Percobaan fungsi 3"
      ],
      "metadata": {
        "id": "OG1NLDgZmePW"
      }
    },
    {
      "cell_type": "code",
      "source": [
        "#1\n",
        "def my_function (a, b, c):\n",
        "  print (a, b, c)\n",
        "\n",
        "my_function (1, 2, 3)"
      ],
      "metadata": {
        "id": "gc23YfDOmgWv",
        "colab": {
          "base_uri": "https://localhost:8080/"
        },
        "outputId": "301e029a-a76f-44bd-d38a-3cd0581c59f1"
      },
      "execution_count": null,
      "outputs": [
        {
          "output_type": "stream",
          "name": "stdout",
          "text": [
            "1 2 3\n"
          ]
        }
      ]
    },
    {
      "cell_type": "code",
      "source": [
        "#2\n",
        "def introduction (first_name, last_name):\n",
        "  print (\"Hello, my name is\", first_name, last_name)\n",
        "\n",
        "introduction (\"Skywalker\", \"Luke\")\n",
        "introduction (\"Quick\", \"Jesse\")\n",
        "introduction (\"Kent\", \"Clark\")"
      ],
      "metadata": {
        "colab": {
          "base_uri": "https://localhost:8080/"
        },
        "id": "O2zvjhtrvKYw",
        "outputId": "878c1a7e-4669-4e61-e900-cb7dc773be10"
      },
      "execution_count": null,
      "outputs": [
        {
          "output_type": "stream",
          "name": "stdout",
          "text": [
            "Hello, my name is Skywalker Luke\n",
            "Hello, my name is Quick Jesse\n",
            "Hello, my name is Kent Clark\n"
          ]
        }
      ]
    },
    {
      "cell_type": "code",
      "source": [
        "#3\n",
        "def introduction (first_name, last_name):\n",
        "  print (\"Helo, my name is\", first_name, last_name)\n",
        "\n",
        "introduction (\"Luke\", \"Skywalker\")\n",
        "introduction (\"Jesse\", \"Quick\")\n",
        "introduction (\"Clark\", \"Kent\")"
      ],
      "metadata": {
        "colab": {
          "base_uri": "https://localhost:8080/"
        },
        "id": "ue9MaJ4BvYZ_",
        "outputId": "e5084426-85fd-43b1-f9df-f4006755291a"
      },
      "execution_count": null,
      "outputs": [
        {
          "output_type": "stream",
          "name": "stdout",
          "text": [
            "Helo, my name is Luke Skywalker\n",
            "Helo, my name is Jesse Quick\n",
            "Helo, my name is Clark Kent\n"
          ]
        }
      ]
    },
    {
      "cell_type": "markdown",
      "source": [
        "Percobaan fungsi 4"
      ],
      "metadata": {
        "id": "BX-ljBuxLYPC"
      }
    },
    {
      "cell_type": "code",
      "source": [
        "def introduction (first_name, last_name):\n",
        "  print (\"Hello, my name is\", first_name, last_name)\n",
        "\n",
        "introduction (first_name = \"James\", last_name = \"Bond\")\n",
        "introduction (last_name = \"Skywalker\", first_name = \"Luke\")"
      ],
      "metadata": {
        "colab": {
          "base_uri": "https://localhost:8080/"
        },
        "id": "FN98Ou15LbAN",
        "outputId": "f6ec0c29-ca91-4d17-bfad-2713c4d00935"
      },
      "execution_count": null,
      "outputs": [
        {
          "output_type": "stream",
          "name": "stdout",
          "text": [
            "Hello, my name is James Bond\n",
            "Hello, my name is Luke Skywalker\n"
          ]
        }
      ]
    },
    {
      "cell_type": "markdown",
      "source": [
        "Percobaan 5"
      ],
      "metadata": {
        "id": "Ret-5oHiMGJH"
      }
    },
    {
      "cell_type": "code",
      "source": [
        "def adding (a, b, c):\n",
        "  print (a, \"+\", b, \"+\", c, \"=\", a + b + c)\n",
        "\n",
        "#call the adding function here.\n",
        "adding (1, 2, 3)\n",
        "adding (c = 1, a = 2, b = 3)\n",
        "adding (3, c = 1, b = 2)\n",
        "adding (4, 3, c = 2)"
      ],
      "metadata": {
        "colab": {
          "base_uri": "https://localhost:8080/"
        },
        "id": "GfxgfQkWMIMe",
        "outputId": "f8b343d0-4cf9-418b-c8c0-0f09f5b6db60"
      },
      "execution_count": null,
      "outputs": [
        {
          "output_type": "stream",
          "name": "stdout",
          "text": [
            "1 + 2 + 3 = 6\n",
            "2 + 3 + 1 = 6\n",
            "3 + 2 + 1 = 6\n",
            "4 + 3 + 2 = 9\n"
          ]
        }
      ]
    },
    {
      "cell_type": "markdown",
      "source": [
        "Percobaan fungsi 6 (return, list, fungsi)"
      ],
      "metadata": {
        "id": "GWou6VmyMmqP"
      }
    },
    {
      "cell_type": "code",
      "source": [
        "#1\n",
        "def list_sum(lst):\n",
        "  s = 0\n",
        "\n",
        "  for elem in lst:\n",
        "    s += elem\n",
        "\n",
        "  return s\n",
        "print (list_sum(5))"
      ],
      "metadata": {
        "colab": {
          "base_uri": "https://localhost:8080/",
          "height": 321
        },
        "id": "1tRQLwTvMsYl",
        "outputId": "5533efb2-b63d-49a6-932a-188b4ab07d89"
      },
      "execution_count": null,
      "outputs": [
        {
          "output_type": "error",
          "ename": "TypeError",
          "evalue": "ignored",
          "traceback": [
            "\u001b[0;31m---------------------------------------------------------------------------\u001b[0m",
            "\u001b[0;31mTypeError\u001b[0m                                 Traceback (most recent call last)",
            "\u001b[0;32m<ipython-input-7-0db4b12e07c9>\u001b[0m in \u001b[0;36m<module>\u001b[0;34m()\u001b[0m\n\u001b[1;32m      7\u001b[0m \u001b[0;34m\u001b[0m\u001b[0m\n\u001b[1;32m      8\u001b[0m   \u001b[0;32mreturn\u001b[0m \u001b[0ms\u001b[0m\u001b[0;34m\u001b[0m\u001b[0;34m\u001b[0m\u001b[0m\n\u001b[0;32m----> 9\u001b[0;31m \u001b[0mprint\u001b[0m \u001b[0;34m(\u001b[0m\u001b[0mlist_sum\u001b[0m\u001b[0;34m(\u001b[0m\u001b[0;36m5\u001b[0m\u001b[0;34m)\u001b[0m\u001b[0;34m)\u001b[0m\u001b[0;34m\u001b[0m\u001b[0;34m\u001b[0m\u001b[0m\n\u001b[0m",
            "\u001b[0;32m<ipython-input-7-0db4b12e07c9>\u001b[0m in \u001b[0;36mlist_sum\u001b[0;34m(lst)\u001b[0m\n\u001b[1;32m      3\u001b[0m   \u001b[0ms\u001b[0m \u001b[0;34m=\u001b[0m \u001b[0;36m0\u001b[0m\u001b[0;34m\u001b[0m\u001b[0;34m\u001b[0m\u001b[0m\n\u001b[1;32m      4\u001b[0m \u001b[0;34m\u001b[0m\u001b[0m\n\u001b[0;32m----> 5\u001b[0;31m   \u001b[0;32mfor\u001b[0m \u001b[0melem\u001b[0m \u001b[0;32min\u001b[0m \u001b[0mlst\u001b[0m\u001b[0;34m:\u001b[0m\u001b[0;34m\u001b[0m\u001b[0;34m\u001b[0m\u001b[0m\n\u001b[0m\u001b[1;32m      6\u001b[0m     \u001b[0ms\u001b[0m \u001b[0;34m+=\u001b[0m \u001b[0melem\u001b[0m\u001b[0;34m\u001b[0m\u001b[0;34m\u001b[0m\u001b[0m\n\u001b[1;32m      7\u001b[0m \u001b[0;34m\u001b[0m\u001b[0m\n",
            "\u001b[0;31mTypeError\u001b[0m: 'int' object is not iterable"
          ]
        }
      ]
    },
    {
      "cell_type": "code",
      "source": [
        "#2\n",
        "def strange_list_fun(n):\n",
        "  strange_list = []\n",
        "\n",
        "  for i in range (0, n):\n",
        "    strange_list.insert (0,i)\n",
        "\n",
        "  return strange_list\n",
        "\n",
        "print (strange_list_fun(5))"
      ],
      "metadata": {
        "colab": {
          "base_uri": "https://localhost:8080/"
        },
        "id": "2VaSpl4WNjta",
        "outputId": "2f9280a9-5201-4843-950e-53ce5b96c4c4"
      },
      "execution_count": null,
      "outputs": [
        {
          "output_type": "stream",
          "name": "stdout",
          "text": [
            "[4, 3, 2, 1, 0]\n"
          ]
        }
      ]
    },
    {
      "cell_type": "markdown",
      "source": [
        "Percobaan 7 Membuat fungsi kasus BMI"
      ],
      "metadata": {
        "id": "D355QX55OWJS"
      }
    },
    {
      "cell_type": "code",
      "source": [
        "def bmi(weight, height):\n",
        "  return weight / height ** 2\n",
        "\n",
        "print (bmi(52.5, 1.65))"
      ],
      "metadata": {
        "colab": {
          "base_uri": "https://localhost:8080/"
        },
        "id": "XRALu1s3OZ1F",
        "outputId": "8d47143a-d109-402e-b52b-0fcb73d2ef38"
      },
      "execution_count": null,
      "outputs": [
        {
          "output_type": "stream",
          "name": "stdout",
          "text": [
            "19.283746556473833\n"
          ]
        }
      ]
    },
    {
      "cell_type": "markdown",
      "source": [
        "Percobaan 8 membuat fungsi dengan or atau and"
      ],
      "metadata": {
        "id": "_Ds6aDicOs_6"
      }
    },
    {
      "cell_type": "code",
      "source": [
        "#1\n",
        "def is_a_triangle (a, b, c):\n",
        "  if a + b <= c:\n",
        "    return False\n",
        "  if b + c <= a:\n",
        "    return False\n",
        "  if c + a <= b:\n",
        "    return False\n",
        "  return True\n",
        "\n",
        "print (is_a_triangle(1, 1, 1))\n",
        "print (is_a_triangle(1, 1, 3))\n",
        "\n",
        "#2\n",
        "def is_a_triangle (a, b, c):\n",
        "  return a + b > c and b + c > a and c + a > b\n",
        "\n",
        "print (is_a_triangle(1, 1, 1))\n",
        "print (is_a_triangle(1, 1, 3))\n",
        "\n",
        "#3\n",
        "def is_a_triangel (a, b, c):\n",
        "  if a + b <= c or b + c <= a or c + a <= b:\n",
        "    return False\n",
        "  return True\n",
        "\n",
        "print (is_a_triangel (1, 1, 1))\n",
        "print (is_a_triangle (1, 1, 3))"
      ],
      "metadata": {
        "colab": {
          "base_uri": "https://localhost:8080/"
        },
        "id": "QA5dBSrqOw9u",
        "outputId": "da33693d-6e5c-475b-d45b-36c3b1c1f7e4"
      },
      "execution_count": null,
      "outputs": [
        {
          "output_type": "stream",
          "name": "stdout",
          "text": [
            "True\n",
            "False\n",
            "True\n",
            "False\n",
            "True\n",
            "False\n"
          ]
        }
      ]
    },
    {
      "cell_type": "markdown",
      "source": [
        "Percobaan 9 rumus segitiga"
      ],
      "metadata": {
        "id": "9ewm6PLtSFlz"
      }
    },
    {
      "cell_type": "code",
      "source": [
        "def is_a_triangel(a, b, c):\n",
        "  return a + b > c and b + c > a and c + a > b\n",
        "\n",
        "def heron (a, b, c):\n",
        "  p = (a + b + c) / 2\n",
        "  return (p * (p-a) * (p-b) * (p-c)) ** 0.5\n",
        "\n",
        "def area_of_triangle (a, b, c):\n",
        "  if not is_a_triangle(a, b, c):\n",
        "    return None\n",
        "  return heron (a, b, c)\n",
        "\n",
        "print (area_of_triangle(1., 1., 2. ** .5))"
      ],
      "metadata": {
        "colab": {
          "base_uri": "https://localhost:8080/"
        },
        "id": "5qGLvO_TSIHg",
        "outputId": "8df304a8-bfc5-42ee-a321-11b0efe726b2"
      },
      "execution_count": null,
      "outputs": [
        {
          "output_type": "stream",
          "name": "stdout",
          "text": [
            "0.49999999999999983\n"
          ]
        }
      ]
    },
    {
      "cell_type": "markdown",
      "source": [
        "Tuple dan Library"
      ],
      "metadata": {
        "id": "l0QUGRC5V6p0"
      }
    },
    {
      "cell_type": "code",
      "source": [
        "#1\n",
        "my_tuple = tuple ((1, 2, \"string\"))\n",
        "print (my_tuple)\n",
        "\n",
        "my_list = [2, 4, 6]\n",
        "print (my_list)           #outpots: [2, 4, 6]\n",
        "print (type(my_list))     #outputs: <class 'list'>\n",
        "tup = tuple (my_list)\n",
        "print (tup)               #outputs: (2, 4, 6)\n",
        "print (type(tup))         #outputs: <class 'tuple'>"
      ],
      "metadata": {
        "colab": {
          "base_uri": "https://localhost:8080/"
        },
        "id": "Ei56-bAqV-MM",
        "outputId": "ea2455ed-79d4-442b-9e78-6a69f7f9303d"
      },
      "execution_count": null,
      "outputs": [
        {
          "output_type": "stream",
          "name": "stdout",
          "text": [
            "(1, 2, 'string')\n",
            "[2, 4, 6]\n",
            "<class 'list'>\n",
            "(2, 4, 6)\n",
            "<class 'tuple'>\n"
          ]
        }
      ]
    },
    {
      "cell_type": "code",
      "source": [
        "#2\n",
        "my_tuple = (1, 10, 100)\n",
        "\n",
        "t1 = my_tuple + (1000, 10000)\n",
        "t2 = my_tuple * 3\n",
        "\n",
        "print(len(t2))\n",
        "print(t1)\n",
        "print(t2)\n",
        "print(10 in my_tuple)\n",
        "print(-10 not in my_tuple)"
      ],
      "metadata": {
        "colab": {
          "base_uri": "https://localhost:8080/"
        },
        "id": "YW-sKw5jW11L",
        "outputId": "59784528-c0b9-4791-da74-18a66f439b6f"
      },
      "execution_count": null,
      "outputs": [
        {
          "output_type": "stream",
          "name": "stdout",
          "text": [
            "9\n",
            "(1, 10, 100, 1000, 10000)\n",
            "(1, 10, 100, 1, 10, 100, 1, 10, 100)\n",
            "True\n",
            "True\n"
          ]
        }
      ]
    },
    {
      "cell_type": "markdown",
      "source": [
        "Percobaan Library 1"
      ],
      "metadata": {
        "id": "ikbX3hRzXZMt"
      }
    },
    {
      "cell_type": "code",
      "source": [
        "#1\n",
        "dictionary = {\"cat\": \"chat\", \"dog\": \"chien\", \"horse\": \"cheval\"}\n",
        "phone_numbers = {'boss': 5551234567, 'Suzy': 22657854310}\n",
        "empty_dictionary = {}\n",
        "\n",
        "#print the value here.\n",
        "print (dictionary['cat'])\n",
        "print (phone_numbers['Suzy'])"
      ],
      "metadata": {
        "colab": {
          "base_uri": "https://localhost:8080/"
        },
        "id": "yI6grzkNYLMB",
        "outputId": "a5259b1e-5f12-4f8e-d026-ecef4d0c26c5"
      },
      "execution_count": null,
      "outputs": [
        {
          "output_type": "stream",
          "name": "stdout",
          "text": [
            "chat\n",
            "22657854310\n"
          ]
        }
      ]
    },
    {
      "cell_type": "code",
      "source": [
        "#2\n",
        "dictionary = {\"cat\": \"chat\", \"dog\": \"chien\", \"horse\": \"cheval\"}\n",
        "\n",
        "for key in dictionary.keys():\n",
        "  print (key, \"->\", dictionary[key])"
      ],
      "metadata": {
        "colab": {
          "base_uri": "https://localhost:8080/"
        },
        "id": "T9Vm6Z25axW7",
        "outputId": "6e3b139c-5cfa-493c-d8dc-fa57dcc6b741"
      },
      "execution_count": null,
      "outputs": [
        {
          "output_type": "stream",
          "name": "stdout",
          "text": [
            "cat -> chat\n",
            "dog -> chien\n",
            "horse -> cheval\n"
          ]
        }
      ]
    },
    {
      "cell_type": "code",
      "source": [
        "#3\n",
        "dictionary = {\"cat\": \"chat\", \"dog\": \"chien\", \"horse\": \"cheval\"}\n",
        "words = ['cat', 'lion', 'horse']\n",
        "\n",
        "for word in words:\n",
        "  if word in dictionary:\n",
        "    print (word, \"->\", dictionary[word])\n",
        "  else:\n",
        "    print (word, \"is not in dictionary\")"
      ],
      "metadata": {
        "colab": {
          "base_uri": "https://localhost:8080/"
        },
        "id": "QkjDoWfZbCja",
        "outputId": "7a6ea028-d3eb-4bad-c990-b47a962dc6a9"
      },
      "execution_count": null,
      "outputs": [
        {
          "output_type": "stream",
          "name": "stdout",
          "text": [
            "cat -> chat\n",
            "lion is not in dictionary\n",
            "horse -> cheval\n"
          ]
        }
      ]
    },
    {
      "cell_type": "markdown",
      "source": [
        "Percobaan Tuple dengan Library"
      ],
      "metadata": {
        "id": "7eGot3fSbnGE"
      }
    },
    {
      "cell_type": "code",
      "source": [
        "school_class = {}\n",
        "while True:\n",
        "  name = input(\"Enter the student's name:\")\n",
        "  if name == '':\n",
        "    break\n",
        "\n",
        "  score = int(input(\"Enter the student's score (0-10):\"))\n",
        "  if score not in range (0, 11):\n",
        "    break\n",
        "\n",
        "  if name in school_class:\n",
        "    school_class[name] += (score,)\n",
        "  else:\n",
        "    school_class[name] = (score,)\n",
        "\n",
        "for name in sorted (school_class.keys()):\n",
        "  adding = 0\n",
        "  counter = 0\n",
        "  for score in school_class[name]:\n",
        "    adding += score\n",
        "    counter += 1\n",
        "  print (name, \":\", adding/counter)"
      ],
      "metadata": {
        "id": "hxrLaMVJbqar",
        "colab": {
          "base_uri": "https://localhost:8080/"
        },
        "outputId": "0fffd7a5-9d76-46ae-ed3b-a276fe91d45f"
      },
      "execution_count": null,
      "outputs": [
        {
          "output_type": "stream",
          "name": "stdout",
          "text": [
            "Enter the student's name:yasa\n",
            "Enter the student's score (0-10):8\n",
            "Enter the student's name:dindung\n",
            "Enter the student's score (0-10):1\n",
            "Enter the student's name:indy\n",
            "Enter the student's score (0-10):12\n",
            "dindung : 1.0\n",
            "yasa : 8.0\n"
          ]
        }
      ]
    },
    {
      "cell_type": "markdown",
      "source": [
        "Expection"
      ],
      "metadata": {
        "id": "yE2nZAG_d3wb"
      }
    },
    {
      "cell_type": "code",
      "source": [
        "#percobaan 1\n",
        "try:\n",
        "  value = int(input('Enter a natural number:'))\n",
        "  print ('The reciprocal of', value, 'is', 1/value)\n",
        "except:\n",
        "  print ('I do not know what to do.')"
      ],
      "metadata": {
        "colab": {
          "base_uri": "https://localhost:8080/"
        },
        "id": "ijSp5g9yd3DD",
        "outputId": "8b80519b-9145-475d-9711-2b2b67487c87"
      },
      "execution_count": null,
      "outputs": [
        {
          "output_type": "stream",
          "name": "stdout",
          "text": [
            "Enter a natural number:4\n",
            "The reciprocal of 4 is 0.25\n"
          ]
        }
      ]
    },
    {
      "cell_type": "code",
      "source": [
        "#percobaan 2\n",
        "while True :\n",
        "  try:\n",
        "    number = int(input(\"Enter an int number:\"))\n",
        "    print (5/number)\n",
        "    break\n",
        "  except ValueError:\n",
        "    print (\"Wrong value.\")\n",
        "  except ZeroDivisionError:\n",
        "    print (\"Sorry. I cannot divide by zero.\")\n",
        "  except:\n",
        "    print (\"I don't know what to do...\")"
      ],
      "metadata": {
        "colab": {
          "base_uri": "https://localhost:8080/"
        },
        "id": "zZXQ862ueYAy",
        "outputId": "2c6feb57-2d3e-4751-dac0-bb758c29b5e4"
      },
      "execution_count": null,
      "outputs": [
        {
          "output_type": "stream",
          "name": "stdout",
          "text": [
            "I don't know what to do...\n",
            "I don't know what to do...\n",
            "Enter an int number:0\n",
            "Sorry. I cannot divide by zero.\n",
            "Enter an int number:a\n",
            "Wrong value.\n",
            "Enter an int number:5\n",
            "1.0\n"
          ]
        }
      ]
    },
    {
      "cell_type": "code",
      "source": [
        "#percobaan 3\n",
        "try:\n",
        "  value = int(input(\"Enter a value:\"))\n",
        "  print (value/value)\n",
        "except ValueError:\n",
        "  print (\"Bad input...\")\n",
        "except ZeroDivisionError:\n",
        "  print (\"Verru bad input...\")\n",
        "except:\n",
        "  print (\"Booo!\")"
      ],
      "metadata": {
        "colab": {
          "base_uri": "https://localhost:8080/"
        },
        "id": "L7rus2vLe58T",
        "outputId": "74bc6d7c-b124-4563-af1d-8dcff8800206"
      },
      "execution_count": null,
      "outputs": [
        {
          "output_type": "stream",
          "name": "stdout",
          "text": [
            "Enter a value:0\n",
            "Verru bad input...\n"
          ]
        }
      ]
    }
  ],
  "metadata": {
    "colab": {
      "collapsed_sections": [],
      "name": "Prak.PBO_1",
      "provenance": []
    },
    "kernelspec": {
      "display_name": "Python 3",
      "name": "python3"
    }
  },
  "nbformat": 4,
  "nbformat_minor": 0
}